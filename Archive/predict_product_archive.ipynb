{
 "cells": [
  {
   "cell_type": "markdown",
   "id": "26ab9e26",
   "metadata": {},
   "source": [
    "## <font color =\"#fa8231\">Proyecto final: Prediccion de costo de consumo total por cliente"
   ]
  },
  {
   "cell_type": "markdown",
   "id": "1dc7041c",
   "metadata": {},
   "source": [
    "## <font color =\"#fa8231\">Instrucciones por fase"
   ]
  },
  {
   "cell_type": "markdown",
   "id": "c96e0823",
   "metadata": {},
   "source": [
    "1. Datos y planteamiento\n",
    "2. Análisis exploratorio\n",
    "3. Modelado predictivo"
   ]
  },
  {
   "cell_type": "markdown",
   "id": "ec003663",
   "metadata": {},
   "source": [
    "### <font color =\"#fa8231\"> 1.- Datos y planteamiento"
   ]
  },
  {
   "cell_type": "markdown",
   "id": "159d06f3",
   "metadata": {},
   "source": [
    "En esta fase del proyecto deberás realizar una presentación/documento/diagrama que contenga lo siguiente:\n",
    "* **Descripción del dataset**\n",
    "    - Qué datos representa, de dónde lo obtuviste\n",
    "* **Motivación**\n",
    "    - Por qué este dataset?\n",
    "    - DATASET TIENE MUCHA APLICABILIDAD, ES INTUITIVO E INTERESANTE\n",
    "* **Conocimiento de dominio**\n",
    "    - Si aplica, qué relación tienes con el dominio del dataset? Has trabajado con datos similares antes?\n",
    "* <font color ='indianred'> **Meta** </font>  \n",
    "    - Define qué vas a hacer con el dataset, tienes 3 opciones:\n",
    "        - **Predicción** (regresión o clasificación usando sklearn o tensorflow)\n",
    "    - Explica por qué escogiste una de las 3 actividades y explica por qué tu resultado va a ser valioso\n",
    "    \n",
    "    \n",
    "    - COLUMNA PARA PREDECIR: \"mnt_wines\"\n",
    "    - METODO: REGRESION LINEAL "
   ]
  },
  {
   "cell_type": "markdown",
   "id": "c0711ea3",
   "metadata": {},
   "source": [
    "###  <font color =\"#fa8231\"> 2.- Análisis exploratorio"
   ]
  },
  {
   "cell_type": "markdown",
   "id": "b536a354",
   "metadata": {},
   "source": [
    "En esta fase deberás de presentar una libreta que muestre los siguientes pasos:\n",
    "* **Vistazos de los datos(P1)**\n",
    "    - Presenta de la manera más clara que puedas las generalidades del dataset (número de renglones y columnas, tipos de datos, etc...)\n",
    "* **Limpieza de datos(P1)**\n",
    "    - Había nulos? Había columnas innecesarias? Había información redundante? Qué hiciste con estos datos? Por qué decidiste manejarlos como los hayas manejado?\n",
    "* **Corrección de fechas(P1)**\n",
    "    - Si tu dataset contiene fechas, convierte la columna que contenga las fechas a un objeto datetime\n",
    "* **Extracción de columnas interesantes(P1,P2)**\n",
    "    - Presenta la menor cantidad posible de columnas que *tú* consideres son las más relevantes a la actividad que seleccionaste\n",
    "* **Exploración de columnas interesantes(P2)**\n",
    "    - Justifica tu intuición con visualizaciones en seaborn y estadísticas descriptivas. Demuestra que las variables que seleccionaste como interesantes tienen potencial para resolver la actividad"
   ]
  },
  {
   "cell_type": "markdown",
   "id": "14045d64",
   "metadata": {},
   "source": [
    "###  <font color =\"#fa8231\"> Contexto del dataset y diccionario de datos"
   ]
  },
  {
   "cell_type": "markdown",
   "id": "2f366378",
   "metadata": {},
   "source": [
    "**Context**\n",
    " **Problem Statement**\n",
    " \n",
    "Customer Personality Analysis is a detailed analysis of a company’s ideal customers. It helps a business to better understand its customers and makes it easier for them to modify products according to the specific needs, behaviors and concerns of different types of customers.\n",
    "\n",
    "Customer personality analysis helps a business to modify its product based on its target customers from different types of customer segments. For example, instead of spending money to market a new product to every customer in the company’s database, a company can analyze which customer segment is most likely to buy the product and then market the product only on that particular segment.\n",
    " \n",
    " **Content**\n",
    " **Attributes**\n",
    " \n",
    " **People**\n",
    " \n",
    " - ID: Customer's unique identifier\n",
    " - Year_Birth: Customer's birth year\n",
    " - Education: Customer's education level\n",
    " - Marital_Status: Customer's marital status\n",
    " - Income: Customer's yearly household income\n",
    " - Kidhome: Number of children in customer's household\n",
    " - Teenhome: Number of teenagers in customer's household\n",
    " - Dt_Customer: Date of customer's enrollment with the company\n",
    " - Recency: Number of days since customer's last purchase\n",
    " - Complain: 1 if customer complained in the last 2 years, 0 otherwise\n",
    " \n",
    " \n",
    " **Products**\n",
    " \n",
    " \n",
    " - MntWines: Amount spent on wine in last 2 years\n",
    " - MntFruits: Amount spent on fruits in last 2 years\n",
    " - MntMeatProducts: Amount spent on meat in last 2 years\n",
    " - MntFishProducts: Amount spent on fish in last 2 years\n",
    " - MntSweetProducts: Amount spent on sweets in last 2 years\n",
    " - MntGoldProds: Amount spent on gold in last 2 years\n",
    " \n",
    " \n",
    " **Promotion**\n",
    " \n",
    " \n",
    " - NumDealsPurchases: Number of purchases made with a discount\n",
    " - AcceptedCmp1: 1 if customer accepted the offer in the 1st campaign, 0 otherwise\n",
    " - AcceptedCmp2: 1 if customer accepted the offer in the 2nd campaign, 0 otherwise\n",
    " - AcceptedCmp3: 1 if customer accepted the offer in the 3rd campaign, 0 otherwise\n",
    " - AcceptedCmp4: 1 if customer accepted the offer in the 4th campaign, 0 otherwise\n",
    " - AcceptedCmp5: 1 if customer accepted the offer in the 5th campaign, 0 otherwise\n",
    " - Response: 1 if customer accepted the offer in the last campaign, 0 otherwise\n",
    " \n",
    " \n",
    " **Medio de compra**\n",
    " \n",
    " \n",
    " - NumWebPurchases: Number of purchases made through the company’s web site\n",
    " - NumCatalogPurchases: Number of purchases made using a catalogue\n",
    " - NumStorePurchases: Number of purchases made directly in stores\n",
    " - NumWebVisitsMonth: Number of visits to company’s web site in the last month\n",
    " \n",
    "  **Data Source: https://www.kaggle.com/imakash3011/customer-personality-analysis**"
   ]
  },
  {
   "cell_type": "code",
   "execution_count": 1,
   "id": "3d94413e",
   "metadata": {},
   "outputs": [
    {
     "ename": "ModuleNotFoundError",
     "evalue": "No module named 'base_code'",
     "output_type": "error",
     "traceback": [
      "\u001b[0;31m---------------------------------------------------------------------------\u001b[0m",
      "\u001b[0;31mModuleNotFoundError\u001b[0m                       Traceback (most recent call last)",
      "\u001b[0;32m/var/folders/vh/vrn0lyd52hlc60xspqx0ntyc0000gn/T/ipykernel_1849/2919799817.py\u001b[0m in \u001b[0;36m<module>\u001b[0;34m\u001b[0m\n\u001b[1;32m     11\u001b[0m \u001b[0;34m\u001b[0m\u001b[0m\n\u001b[1;32m     12\u001b[0m \u001b[0;31m# Librerias adicionales\u001b[0m\u001b[0;34m\u001b[0m\u001b[0;34m\u001b[0m\u001b[0;34m\u001b[0m\u001b[0m\n\u001b[0;32m---> 13\u001b[0;31m \u001b[0;32mfrom\u001b[0m \u001b[0mbase_code\u001b[0m\u001b[0;34m.\u001b[0m\u001b[0mdescribe_df\u001b[0m \u001b[0;32mimport\u001b[0m \u001b[0mdata_description\u001b[0m\u001b[0;34m\u001b[0m\u001b[0;34m\u001b[0m\u001b[0m\n\u001b[0m\u001b[1;32m     14\u001b[0m \u001b[0;32mfrom\u001b[0m \u001b[0mbase_code\u001b[0m\u001b[0;34m.\u001b[0m\u001b[0mexplore\u001b[0m \u001b[0;32mimport\u001b[0m \u001b[0mremove_outliers\u001b[0m\u001b[0;34m\u001b[0m\u001b[0;34m\u001b[0m\u001b[0m\n\u001b[1;32m     15\u001b[0m \u001b[0;31m#from base_code.feature_selection import variable_normalization,select_kbest\u001b[0m\u001b[0;34m\u001b[0m\u001b[0;34m\u001b[0m\u001b[0;34m\u001b[0m\u001b[0m\n",
      "\u001b[0;31mModuleNotFoundError\u001b[0m: No module named 'base_code'"
     ]
    }
   ],
   "source": [
    "# Manejo de datos\n",
    "import pandas as pd\n",
    "import numpy as np\n",
    "import datetime\n",
    "import scipy.stats as st\n",
    "\n",
    "# Graficos\n",
    "import seaborn as sns\n",
    "import matplotlib.pyplot as plt\n",
    "plt.style.use([\"ggplot\",\"seaborn-white\"])\n",
    "\n",
    "# Librerias adicionales\n",
    "from base_code.describe_df import data_description\n",
    "from base_code.explore import remove_outliers\n",
    "#from base_code.feature_selection import variable_normalization,select_kbest\n",
    "from base_code.modeling import manual_model,final_model,linear_regression,random_forest_regressor\n",
    "\n",
    "# Librerias para el modelo\n",
    "from sklearn.model_selection import train_test_split\n",
    "from sklearn.linear_model import LinearRegression\n",
    "from sklearn.ensemble import RandomForestRegressor\n",
    "from sklearn.neighbors import KNeighborsRegressor\n",
    "from sklearn.tree import DecisionTreeRegressor\n",
    "from sklearn.model_selection import ShuffleSplit\n",
    "import sklearn.preprocessing\n",
    "from sklearn.pipeline import Pipeline\n",
    "from sklearn.preprocessing import StandardScaler\n",
    "from sklearn.feature_selection import SelectKBest,f_regression\n",
    "from sklearn import metrics\n",
    "\n",
    "# Selección de modelos\n",
    "from sklearn.model_selection import cross_val_score\n",
    "from sklearn.model_selection import cross_validate\n",
    "from sklearn.model_selection import GridSearchCV\n"
   ]
  },
  {
   "cell_type": "code",
   "execution_count": null,
   "id": "bd97aaa6",
   "metadata": {},
   "outputs": [],
   "source": [
    "# Crear dataframe y describir datos de entrada\n",
    "df = data_description(\"data/marketing_campaign.csv\",\"\\t\")"
   ]
  },
  {
   "cell_type": "code",
   "execution_count": null,
   "id": "72a4ddff",
   "metadata": {},
   "outputs": [],
   "source": [
    "# Eliminar nulos\n",
    "df.dropna(inplace=True)"
   ]
  },
  {
   "cell_type": "code",
   "execution_count": null,
   "id": "b4ecf7f5",
   "metadata": {},
   "outputs": [],
   "source": [
    "# Remover generaciones Z y Silence \n",
    "limites = [0, 1964, 1980, 'inf']\n",
    "etiquetas = ['Baby Boomers', 'Generation X', 'Millenials']\n",
    "pd.cut(x = df['year_birth'], bins = limites, labels = etiquetas)\n",
    "df['generation'] = pd.cut(x = df['year_birth'], bins = limites, labels = etiquetas)\n",
    "df.generation.value_counts()"
   ]
  },
  {
   "cell_type": "code",
   "execution_count": null,
   "id": "d9588e99",
   "metadata": {},
   "outputs": [],
   "source": [
    "# Crear variable para la edad de nuestros clientes.\n",
    "current_date = datetime.datetime.now()\n",
    "date = current_date.date()\n",
    "df[\"client_age\"] = date.year - df[\"year_birth\"]"
   ]
  },
  {
   "cell_type": "code",
   "execution_count": null,
   "id": "bd77064b",
   "metadata": {},
   "outputs": [],
   "source": [
    "# Eliminar outliers par la variable \"client_age\"\n",
    "df = remove_outliers(df,\"client_age\")\n",
    "df[\"client_age\"].describe()"
   ]
  },
  {
   "cell_type": "code",
   "execution_count": null,
   "id": "ff3c92d1",
   "metadata": {},
   "outputs": [],
   "source": [
    "# Eliminar outliers par la variable \"income\"\n",
    "df = remove_outliers(df,\"income\")\n",
    "df[\"income\"].describe()"
   ]
  },
  {
   "cell_type": "code",
   "execution_count": null,
   "id": "a2cf7ae7",
   "metadata": {},
   "outputs": [],
   "source": [
    "# Eliminar outliers par la variable \"mnt_wines\"\n",
    "df = remove_outliers(df,\"mnt_wines\")\n",
    "df[\"mnt_wines\"].describe()"
   ]
  },
  {
   "cell_type": "code",
   "execution_count": null,
   "id": "a7c1ee6d",
   "metadata": {},
   "outputs": [],
   "source": [
    "# Crear variable \"children\"\n",
    "df[\"children\"] = df[\"kidhome\"] + df[\"teenhome\"]\n",
    "df[\"children\"] = df[\"children\"].apply(lambda value: 1 if value != 0 else 0)\n",
    "#df.children.head(9)"
   ]
  },
  {
   "cell_type": "code",
   "execution_count": null,
   "id": "575aaa0e",
   "metadata": {},
   "outputs": [],
   "source": [
    "# Crear variable \"total_children\"\n",
    "df[\"total_children\"] = df[\"kidhome\"] + df[\"teenhome\"]"
   ]
  },
  {
   "cell_type": "code",
   "execution_count": null,
   "id": "e83729c2",
   "metadata": {},
   "outputs": [],
   "source": [
    "print(df.shape)"
   ]
  },
  {
   "cell_type": "markdown",
   "id": "34440ff2",
   "metadata": {},
   "source": [
    "### <font color =\"#fa8231\">3.- Modelado predictivo"
   ]
  },
  {
   "cell_type": "markdown",
   "id": "4eb8e7af",
   "metadata": {},
   "source": [
    "* **Específica claramente cuál es la variable que vas a predecir y cuáles son sus predictores**\n",
    "    - Puedes usar tantas variables como desees... pero deberás poder justificar su inclusión en el modelo\n",
    "    - USAR SELECTKBEST PARA COMPARAR CON EL METODO MANUAL LAS MEJORES VARIABLES A UTILIZAR\n",
    "    - modelo_manual = \"mtn_wines ~ income + client_age + children\"\n",
    "    - VARIABLE A PREDECIR: \"mtn_wines\" \n",
    "    - PREDICTORES: \"income\"  \"client_age\" \"children\""
   ]
  },
  {
   "cell_type": "code",
   "execution_count": null,
   "id": "5a37af87",
   "metadata": {},
   "outputs": [],
   "source": [
    "# Crear grafico para variables seleccionadas\n",
    "# mnt_wines mnt_meat_products | children total_children\n",
    "cols_traditional_model = [\"mnt_wines\",\"income\",\"client_age\",\"total_children\"]\n",
    "#cols_traditional_model = [\"mnt_meat_products\",\"income\",\"children\"]\n",
    "df_traditional_model = df[cols_traditional_model]\n",
    "sns.pairplot(data=df_traditional_model,corner=True,kind=\"reg\",plot_kws={\"line_kws\":{'color':\"#40407a\"},\"scatter_kws\":{\"alpha\":0.1}});  "
   ]
  },
  {
   "cell_type": "code",
   "execution_count": null,
   "id": "d26a666b",
   "metadata": {},
   "outputs": [],
   "source": [
    "x1 = cols_traditional_model[1]\n",
    "y = cols_traditional_model[0]\n",
    "sns.lmplot(x=x1,y=y,data=df,line_kws={\"color\":\"#40407a\"});\n",
    "print(\"Coeficiente de correlación de Pearson y p-value\",st.pearsonr(df[x1],df[y]))"
   ]
  },
  {
   "cell_type": "code",
   "execution_count": null,
   "id": "9db40e4c",
   "metadata": {},
   "outputs": [],
   "source": [
    "x2 = cols_traditional_model[2]\n",
    "sns.lmplot(x=x2,y=y,data=df,line_kws={\"color\":\"#40407a\"});\n",
    "print(\"Coeficiente de correlación de Pearson y p-value\",st.pearsonr(df[x2],df[y]))"
   ]
  },
  {
   "cell_type": "code",
   "execution_count": null,
   "id": "d75cd574",
   "metadata": {},
   "outputs": [],
   "source": [
    "x3 = cols_traditional_model[3]\n",
    "sns.lmplot(x=x3,y=y,data=df,line_kws={\"color\":\"#40407a\"});\n",
    "print(\"Coeficiente de correlación de Pearson y p-value\",st.pearsonr(df[x3],df[y]))"
   ]
  },
  {
   "cell_type": "markdown",
   "id": "fa2f6bfa",
   "metadata": {},
   "source": [
    "**Coeficiente de correlación de Pearson**\n",
    "+ Grado de linealidad\n",
    "+ $0$: no hay relación lineal\n",
    "+ $1$: relación lineal perfecta\n",
    "+ $-1$: relación lineal inversa perfecta\n",
    "\n",
    "**p-value**\n",
    "+ significancia de la linealidad\n",
    "+ Si $p-value<0.05$, entonces podemos decir que el modelo de regresión es significativo\n"
   ]
  },
  {
   "cell_type": "markdown",
   "id": "012f72db",
   "metadata": {},
   "source": [
    "\n",
    "=> **Seleccion de variables predictoras(x) y target(y) de acuerdo a EDA**\n"
   ]
  },
  {
   "cell_type": "code",
   "execution_count": null,
   "id": "9b082504",
   "metadata": {},
   "outputs": [],
   "source": [
    "# Variables predictoras\n",
    "x = df_traditional_model[cols_traditional_model[1:]]\n",
    "# Variable target\n",
    "y = df_traditional_model[cols_traditional_model[0]]"
   ]
  },
  {
   "cell_type": "markdown",
   "id": "f34b46f0",
   "metadata": {},
   "source": [
    "\n",
    "* **Crea un train y un test set**\n"
   ]
  },
  {
   "cell_type": "code",
   "execution_count": null,
   "id": "a9178ce7",
   "metadata": {},
   "outputs": [],
   "source": [
    "# Dividimos en conjunto de entrenamiento y de prueba\n",
    "x_train, x_test, y_train, y_test = train_test_split(x, y, test_size = 0.2, random_state = 2)\n",
    "print('x_train',x_train.shape)\n",
    "print('y_train',y_train.shape)\n",
    "print('x_test',x_test.shape) # <=== This is going to be used at the end of the process after final model has been selected\n",
    "print('y_test',y_test.shape) # <=== This is going to be used at the end of the process after final model has been selected"
   ]
  },
  {
   "cell_type": "code",
   "execution_count": null,
   "id": "4b7641cc",
   "metadata": {},
   "outputs": [],
   "source": [
    "# El conjunto de entrenamiento lo dividimos en conjunto de entrenamiento y conjunto de validación\n",
    "x_train_final, x_validation, y_train_final, y_validation = train_test_split(x_train, y_train, test_size = 0.2, random_state = 3)\n",
    "print('x_train_final',x_train_final.shape)\n",
    "print('y_train_final',y_train_final.shape)\n",
    "print('x_validation',x_validation.shape)\n",
    "print('y_validation',y_validation.shape)"
   ]
  },
  {
   "cell_type": "markdown",
   "id": "263311b4",
   "metadata": {},
   "source": [
    "* **Preprocesa**\n",
    "    - Si es una variable cualitativa usa onehot encoding o cualquier método de tu agrado, explica por qué es necesario preprocesar estas variables diferente a las cuantitativa\n",
    "    - Si es una variable cuantitativa deberás estandarizar la variable utilizando el método de tu agrado, explica por qué es necesario/recomendado estandarizar variables"
   ]
  },
  {
   "cell_type": "markdown",
   "id": "ac56b1c6",
   "metadata": {},
   "source": [
    "* **Especifíca qué modelo vas a utlizar**\n",
    "    - Justifica por qué vas a usar ese modelo en particular y no otro\n",
    "    - Para nuestro caso de uso necesitamos un modelo que nos ayude a predecir el consumo en           costo del vino. Por lo tanto necesitamos un modelo para regresion lineal. Vamos a               explorar los siguientes modelos: Linear Regression y Random Forest Regressor"
   ]
  },
  {
   "cell_type": "markdown",
   "id": "a4ca7246",
   "metadata": {},
   "source": [
    "\n",
    "* **Entrena tu modelo y realiza optimización de hiperparámetros con GridSearchCV**\n",
    "    - Explica por qué es necesario hacer validación cruzada para encontrar los mejores hiperparámetros\n",
    "    - Explica por qué es necesario optimizar los hiperparámetros\n",
    "    - Describe claramente qué hace cada hiperparámetro que haya seleccionado y por qué lo seleccionaste\n",
    "    - Interpreta los resultados de la validación cruzada y asegurate de que tu modelo no esté sobreajustado\n"
   ]
  },
  {
   "cell_type": "markdown",
   "id": "f5371cf6",
   "metadata": {},
   "source": [
    "* **Muestra e interpreta las métricas de desempeño de tu modelo**\n"
   ]
  },
  {
   "cell_type": "code",
   "execution_count": null,
   "id": "210507a1",
   "metadata": {},
   "outputs": [],
   "source": [
    "df_manual_model,coef,intercept,model_LR = manual_model(x_train_final,y_train_final,x_validation,y_validation)\n",
    "df_manual_model"
   ]
  },
  {
   "cell_type": "code",
   "execution_count": null,
   "id": "b8a0cc1e",
   "metadata": {},
   "outputs": [],
   "source": [
    "print(coef)\n",
    "print(intercept)\n",
    "print(model_LR)"
   ]
  },
  {
   "cell_type": "markdown",
   "id": "b00b3c30",
   "metadata": {},
   "source": [
    "Modelo simple split\n",
    "\n",
    "¿En regresión múltiple, qué signfica el score (coeficiente de determinación)?\n",
    "\n",
    "Significa que 62% de la variación del consumo de vinos/carnes puede explicarse a través de las variables de entrada que utilizamos"
   ]
  },
  {
   "cell_type": "markdown",
   "id": "cfbbf150",
   "metadata": {},
   "source": [
    "Entrenar el modelo para usar cross validation"
   ]
  },
  {
   "cell_type": "code",
   "execution_count": null,
   "id": "6b095c3f",
   "metadata": {},
   "outputs": [],
   "source": [
    "# Algoritmo: Linear Regression\n",
    "LR_model_CV = Pipeline(steps=[(\"Scaler\",StandardScaler()),\n",
    "                              (\"LR\",LinearRegression())])\n",
    "#LR_model_CV.fit(x_train,y_train)\n",
    "print(type(LR_model_CV))"
   ]
  },
  {
   "cell_type": "code",
   "execution_count": null,
   "id": "e21d1c88",
   "metadata": {},
   "outputs": [],
   "source": [
    "# Monitoreando dos metricas o mas\n",
    "LR1 = cross_validate(LR_model_CV,x_train,y_train,cv=5,scoring=[\"r2\",\"neg_root_mean_squared_error\"])"
   ]
  },
  {
   "cell_type": "code",
   "execution_count": null,
   "id": "69b406fa",
   "metadata": {},
   "outputs": [],
   "source": [
    "df_cv = pd.DataFrame(LR1)\n",
    "df_cv[\"LR_r2_avg\"] = df_cv[\"test_r2\"].sum()/df_cv.shape[0]\n",
    "df_cv[\"LR_RMSE_avg\"] = df_cv[\"test_neg_root_mean_squared_error\"].sum()/df_cv.shape[0]\n",
    "df_cv.sort_values(by=[\"test_neg_root_mean_squared_error\"])"
   ]
  },
  {
   "cell_type": "markdown",
   "id": "b2f36b2e",
   "metadata": {},
   "source": [
    "Evaluar el modelo"
   ]
  },
  {
   "cell_type": "code",
   "execution_count": null,
   "id": "7177f81d",
   "metadata": {},
   "outputs": [],
   "source": [
    "print(\"Linear Regression con validacion cruzada\\n\")\n",
    "print(\"Diferencia de R2: \",df_cv.test_r2.max() - df_cv.test_r2.min())\n",
    "print(\"Diferencia de RMSE: \",df_cv.test_neg_root_mean_squared_error.max() - df_cv.test_neg_root_mean_squared_error.min())"
   ]
  },
  {
   "cell_type": "code",
   "execution_count": null,
   "id": "ccd17df3",
   "metadata": {},
   "outputs": [],
   "source": [
    "LR2 = cross_validate(LR_model_CV,x_train,y_train,scoring=['r2','neg_root_mean_squared_error'], cv=ShuffleSplit(5))"
   ]
  },
  {
   "cell_type": "code",
   "execution_count": null,
   "id": "e64c473a",
   "metadata": {},
   "outputs": [],
   "source": [
    "df_cv = pd.DataFrame(LR2)\n",
    "df_cv[\"LR_r2_avg\"] = df_cv[\"test_r2\"].sum()/df_cv.shape[0]\n",
    "df_cv[\"LR_RMSE_avg\"] = df_cv[\"test_neg_root_mean_squared_error\"].sum()/df_cv.shape[0]\n",
    "df_cv.sort_values(by=[\"test_neg_root_mean_squared_error\"])"
   ]
  },
  {
   "cell_type": "code",
   "execution_count": null,
   "id": "48be4e14",
   "metadata": {},
   "outputs": [],
   "source": [
    "print(\"Linear Regression con validacion cruzada con grupos aleatorios\\n\")\n",
    "print(\"Diferencia de R2: \",df_cv.test_r2.max() - df_cv.test_r2.min())\n",
    "print(\"Diferencia de RMSE: \",df_cv.test_neg_root_mean_squared_error.max() - df_cv.test_neg_root_mean_squared_error.min())"
   ]
  },
  {
   "cell_type": "code",
   "execution_count": null,
   "id": "056d4c0f",
   "metadata": {},
   "outputs": [],
   "source": [
    "# Algoritmo: Random Forest Regressor\n",
    "RFR_model_CV = Pipeline(steps=[(\"Scaler\",StandardScaler()),\n",
    "                              (\"RFR\",RandomForestRegressor())])\n",
    "#RFR_model_CV.fit(x_train,y_train)\n",
    "print(type(RFR_model_CV))"
   ]
  },
  {
   "cell_type": "code",
   "execution_count": null,
   "id": "f83fd3d8",
   "metadata": {},
   "outputs": [],
   "source": [
    "# Monitoreando dos metricas o mas\n",
    "RFR1 = cross_validate(RFR_model_CV,x_train,y_train,cv=5,scoring=[\"r2\",\"neg_root_mean_squared_error\"])"
   ]
  },
  {
   "cell_type": "code",
   "execution_count": null,
   "id": "6722fe18",
   "metadata": {},
   "outputs": [],
   "source": [
    "df_cv = pd.DataFrame(RFR1)\n",
    "df_cv[\"RFR_r2_avg\"] = df_cv[\"test_r2\"].sum()/df_cv.shape[0]\n",
    "df_cv[\"RFR_RMSE_avg\"] = df_cv[\"test_neg_root_mean_squared_error\"].sum()/df_cv.shape[0]\n",
    "df_cv.sort_values(by=[\"test_neg_root_mean_squared_error\"])"
   ]
  },
  {
   "cell_type": "code",
   "execution_count": null,
   "id": "9bd8a432",
   "metadata": {},
   "outputs": [],
   "source": [
    "print(\"Linear Regression con validacion cruzada\\n\")\n",
    "print(\"Diferencia de R2: \",df_cv.test_r2.max() - df_cv.test_r2.min())\n",
    "print(\"Diferencia de RMSE: \",df_cv.test_neg_root_mean_squared_error.max() - df_cv.test_neg_root_mean_squared_error.min())"
   ]
  },
  {
   "cell_type": "code",
   "execution_count": null,
   "id": "e517c182",
   "metadata": {},
   "outputs": [],
   "source": [
    "RFR2 = cross_validate(RFR_model_CV,x_train,y_train,scoring=['r2','neg_root_mean_squared_error'], cv=ShuffleSplit(5))"
   ]
  },
  {
   "cell_type": "code",
   "execution_count": null,
   "id": "f6724267",
   "metadata": {},
   "outputs": [],
   "source": [
    "df_cv = pd.DataFrame(RFR2)\n",
    "df_cv[\"RFR_r2_avg\"] = df_cv[\"test_r2\"].sum()/df_cv.shape[0]\n",
    "df_cv[\"RFR_RMSE_avg\"] = df_cv[\"test_neg_root_mean_squared_error\"].sum()/df_cv.shape[0]\n",
    "df_cv.sort_values(by=[\"test_neg_root_mean_squared_error\"])"
   ]
  },
  {
   "cell_type": "code",
   "execution_count": null,
   "id": "534f08be",
   "metadata": {},
   "outputs": [],
   "source": [
    "print(\"Linear Regression con validacion cruzada con grupos aleatorios\\n\")\n",
    "print(\"Diferencia de R2: \",df_cv.test_r2.max() - df_cv.test_r2.min())\n",
    "print(\"Diferencia de RMSE: \",df_cv.test_neg_root_mean_squared_error.max() - df_cv.test_neg_root_mean_squared_error.min())"
   ]
  },
  {
   "cell_type": "markdown",
   "id": "b3d6388b",
   "metadata": {},
   "source": [
    "## Multi-modelo usando validacion cruzada y GridSearchCV"
   ]
  },
  {
   "cell_type": "code",
   "execution_count": null,
   "id": "35d2d079",
   "metadata": {},
   "outputs": [],
   "source": [
    "# Algoritmo: LinearRegression\n",
    "multi_model = Pipeline(steps=[(\"Scaler\",StandardScaler()),\n",
    "                              (\"model\",LinearRegression())])\n",
    "print(type(multi_model))"
   ]
  },
  {
   "cell_type": "code",
   "execution_count": null,
   "id": "26828c13",
   "metadata": {},
   "outputs": [],
   "source": [
    "multi_model.named_steps[\"model\"]"
   ]
  },
  {
   "cell_type": "code",
   "execution_count": null,
   "id": "c49e6ddf",
   "metadata": {},
   "outputs": [],
   "source": [
    "#Algoritmos: Linear Regression, Logistic Regression, KNeighborsRegressor and DecisionTreeRegressor.\n",
    "param_grid = [{\"model\":[LinearRegression()],\n",
    "               \"model__fit_intercept\":[True,False],\n",
    "               \"model__copy_X\":[True]},\n",
    "              {\"model\":[RandomForestRegressor()],\n",
    "               \"model__max_depth\":[1,2,3,4,5,6],\n",
    "               \"model__max_samples\":np.linspace(0.01,1,10),\n",
    "               \"model__bootstrap\":[True]},\n",
    "              {\"model\":[KNeighborsRegressor()],\n",
    "               \"model__n_neighbors\":[1,2,3,4,5,6],\n",
    "               \"model__algorithm\":[\"auto\",\"ball_tree\",\"kd_tree\",\"brute\"],\n",
    "               \"model__leaf_size\":[30,60,90]},\n",
    "              {\"model\":[DecisionTreeRegressor()],\n",
    "               \"model__criterion\":[\"squared_error\",\"absolute_error\"],\n",
    "               \"model__splitter\":[\"best\",\"random\"],\n",
    "               \"model__max_depth\":[1,2,3,4,5,6]}]"
   ]
  },
  {
   "cell_type": "code",
   "execution_count": null,
   "id": "a9a28501",
   "metadata": {},
   "outputs": [],
   "source": [
    "# Instrucciones\n",
    "grid_search_cv = GridSearchCV(estimator = multi_model,\n",
    "                  param_grid = param_grid,\n",
    "                  cv = 5,\n",
    "                  scoring=\"neg_root_mean_squared_error\")"
   ]
  },
  {
   "cell_type": "code",
   "execution_count": null,
   "id": "f8897188",
   "metadata": {},
   "outputs": [],
   "source": [
    "grid_search_cv.fit(x_train,y_train)"
   ]
  },
  {
   "cell_type": "code",
   "execution_count": null,
   "id": "42c77d63",
   "metadata": {},
   "outputs": [],
   "source": [
    "# Revisar tipo de objecto\n",
    "type(grid_search_cv)"
   ]
  },
  {
   "cell_type": "code",
   "execution_count": null,
   "id": "b950b2e3",
   "metadata": {},
   "outputs": [],
   "source": [
    "results = pd.DataFrame(grid_search_cv.cv_results_).sort_values(by='rank_test_score')\n",
    "results"
   ]
  },
  {
   "cell_type": "code",
   "execution_count": null,
   "id": "d1ed2d1d",
   "metadata": {},
   "outputs": [],
   "source": [
    "# Mejor RMSE\n",
    "grid_search_cv.best_score_"
   ]
  },
  {
   "cell_type": "code",
   "execution_count": null,
   "id": "a9cf9610",
   "metadata": {},
   "outputs": [],
   "source": [
    "# Parametro con los que se obtuvo el mejor RMSE\n",
    "grid_search_cv.best_params_"
   ]
  },
  {
   "cell_type": "code",
   "execution_count": null,
   "id": "920ee6d4",
   "metadata": {},
   "outputs": [],
   "source": []
  },
  {
   "cell_type": "markdown",
   "id": "0091a971",
   "metadata": {},
   "source": [
    "Evaluar el modelo\n",
    "- Modelo Simple\n",
    "- Modelo con pipeline\n",
    "- Multi-modelo con pipeline"
   ]
  },
  {
   "cell_type": "markdown",
   "id": "aa06df61",
   "metadata": {},
   "source": [
    "Re-entrenar el modelo"
   ]
  },
  {
   "cell_type": "code",
   "execution_count": null,
   "id": "f1808d02",
   "metadata": {},
   "outputs": [],
   "source": [
    "# Mejor modelo con parametros\n",
    "grid_search_cv.best_estimator_\n"
   ]
  },
  {
   "cell_type": "code",
   "execution_count": null,
   "id": "e7c3f932",
   "metadata": {},
   "outputs": [],
   "source": [
    "# Re-entrenar el modelo con los mejores parámetros\n",
    "## Hacer validacion cruzada\n",
    "#cross_val_score(grid_search_cv,x_train,y_train, scoring=\"neg_root_mean_squared_error\", cv=5)\n",
    "grid_search_cv.fit(x_train,y_train);"
   ]
  },
  {
   "cell_type": "markdown",
   "id": "ff98cfeb",
   "metadata": {},
   "source": [
    "Predicciones"
   ]
  },
  {
   "cell_type": "code",
   "execution_count": null,
   "id": "44d2513c",
   "metadata": {},
   "outputs": [],
   "source": [
    "y_pred = grid_search_cv.predict(x_test)"
   ]
  },
  {
   "cell_type": "code",
   "execution_count": null,
   "id": "a0c78a2f",
   "metadata": {},
   "outputs": [],
   "source": [
    "# Crear variables para comparar resultados finales \n",
    "x_test[\"y_test\"] = y_test\n",
    "x_test[\"y_pred\"] = y_pred\n",
    "x_test[\"residuals\"] = x_test[\"y_test\"] - x_test[\"y_pred\"] # Calcular residuos\n",
    "x_test[\"abs_percent\"] = (round(x_test[\"residuals\"]/x_test[\"y_test\"],6)*100).abs()"
   ]
  },
  {
   "cell_type": "code",
   "execution_count": null,
   "id": "a63051e5",
   "metadata": {},
   "outputs": [],
   "source": [
    "# Promedio de los residuos\n",
    "x_test[\"residuals\"].abs().mean()"
   ]
  },
  {
   "cell_type": "code",
   "execution_count": null,
   "id": "dff5eb09",
   "metadata": {},
   "outputs": [],
   "source": [
    "print(\"MAE:\",metrics.mean_absolute_error(y_test,y_pred))\n",
    "print(\"MSE:\",metrics.mean_squared_error(y_test,y_pred))\n",
    "print(\"RMSE:\",np.sqrt(metrics.mean_squared_error(y_test,y_pred)))\n",
    "print(\"R2 Score:\",metrics.r2_score(y_test,y_pred))"
   ]
  },
  {
   "cell_type": "code",
   "execution_count": null,
   "id": "911ac3dc",
   "metadata": {},
   "outputs": [],
   "source": [
    "# Comparacion final de resultados\n",
    "compare_cols = [\"client_age\",\"y_test\",\"y_pred\",\"residuals\",\"abs_percent\"]\n",
    "compare = x_test[compare_cols]\n",
    "print(compare.shape)\n",
    "# Ascending order\n",
    "print(compare.sort_values(by=[\"abs_percent\"],ascending=True).head(60))"
   ]
  },
  {
   "cell_type": "code",
   "execution_count": null,
   "id": "ac5b32f2",
   "metadata": {},
   "outputs": [],
   "source": [
    "# Descending order\n",
    "print(compare.sort_values(by=[\"abs_percent\"],ascending=False).head(60))"
   ]
  },
  {
   "cell_type": "code",
   "execution_count": null,
   "id": "8102325c",
   "metadata": {},
   "outputs": [],
   "source": [
    "# Comparar valores reales contra predicciones\n",
    "# Plot\n",
    "plt.rcParams.update({\"figure.figsize\":(15,10),\"figure.dpi\":100})\n",
    "plt.scatter(compare[\"client_age\"],compare[\"y_test\"],color=\"orange\",marker=\"o\",label=\"Real\")\n",
    "plt.scatter(compare[\"client_age\"],compare[\"y_pred\"],color=\"green\",marker=\"x\",label=\"Prediction\")\n",
    "# Labels\n",
    "plt.title(\"Comparativo de datos reales y prediccion\")\n",
    "plt.xlabel(\"client_age\")\n",
    "plt.ylabel('Wines')\n",
    "plt.legend(loc='best')\n",
    "plt.show()"
   ]
  },
  {
   "cell_type": "code",
   "execution_count": null,
   "id": "5aa3b095",
   "metadata": {},
   "outputs": [],
   "source": [
    "# Boxplot\n",
    "compare.boxplot(column=[\"y_test\",\"y_pred\"]);"
   ]
  },
  {
   "cell_type": "code",
   "execution_count": null,
   "id": "3cc37ee5",
   "metadata": {},
   "outputs": [],
   "source": [
    "y_train.plot.box();"
   ]
  },
  {
   "cell_type": "code",
   "execution_count": null,
   "id": "5c798ba1",
   "metadata": {},
   "outputs": [],
   "source": []
  },
  {
   "cell_type": "markdown",
   "id": "721621db",
   "metadata": {},
   "source": [
    "# Borrar esta seccion antes de la presentacion\n",
    "Para proyectos de clasificación o regresión:  \n",
    "* 20% --> Se hizo un train y test set\n",
    "* 20% --> Las variables predictoras están correctamente preprocesadas\n",
    "* 20% --> El modelo que se usó se entrenó exitosamente\n",
    "* 20% --> El modelo NO está sobreajustado\n",
    "* 20% --> Las métricas de evaluación fueron correctamente elegidas e interpretadas"
   ]
  }
 ],
 "metadata": {
  "kernelspec": {
   "display_name": "Python 3 (ipykernel)",
   "language": "python",
   "name": "python3"
  },
  "language_info": {
   "codemirror_mode": {
    "name": "ipython",
    "version": 3
   },
   "file_extension": ".py",
   "mimetype": "text/x-python",
   "name": "python",
   "nbconvert_exporter": "python",
   "pygments_lexer": "ipython3",
   "version": "3.8.11"
  }
 },
 "nbformat": 4,
 "nbformat_minor": 5
}
